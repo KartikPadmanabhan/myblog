{
 "cells": [
  {
   "cell_type": "markdown",
   "metadata": {},
   "source": [
    "# USING METHOD OF MOMENTS TO PREDICT DATABASE PERFORMANCE METRICS"
   ]
  },
  {
   "cell_type": "markdown",
   "metadata": {},
   "source": [
    "## Introduction"
   ]
  },
  {
   "cell_type": "markdown",
   "metadata": {},
   "source": [
    "This article exploits statistical technique method of moments (MOM) and generalized method of moments (GMM)  to estimate database statistics from the past data. Both GMM and MOM's are parametric  unsupervised form of learning. I am restricting this to Oracle Database in this example, but it can be extended to any database system.\n",
    "\n",
    "We initially select a distribution to model our random variable. Our random variables in database statistical parameters could be any statistic that we collect say in AWR report. To start our analysis, we collected AWR reports over several months. We then scraped these data and stored our metrics in csv formats. I have presented some csv files corresponding to these statistics in my github page.\n"
   ]
  },
  {
   "cell_type": "markdown",
   "metadata": {},
   "source": [
    "## Parameters Of Interest"
   ]
  },
  {
   "cell_type": "markdown",
   "metadata": {},
   "source": [
    "Lets say we want to use the method of moments to predict the following AWR statistics for the database Load Profile in AWR statistics. This is given in this section."
   ]
  },
  {
   "cell_type": "code",
   "execution_count": 1,
   "metadata": {
    "collapsed": false
   },
   "outputs": [],
   "source": [
    "from IPython.display import Image\n",
    "import pandas as pd\n",
    "import matplotlib.pyplot as plt\n",
    "from scipy.stats.kde import gaussian_kde\n",
    "from plotly import tools\n",
    "import scipy.stats as scs\n",
    "from scipy.stats import *\n",
    "import plotly.plotly as py\n",
    "from scipy import stats\n",
    "from plotly.graph_objs import *\n",
    "import plotly.plotly as py\n",
    "from plotly.graph_objs import *\n",
    "import numpy as np"
   ]
  },
  {
   "cell_type": "code",
   "execution_count": 2,
   "metadata": {
    "collapsed": false
   },
   "outputs": [
    {
     "ename": "IOError",
     "evalue": "[Errno 2] No such file or directory: u'images/load_profile.png'",
     "output_type": "error",
     "traceback": [
      "\u001b[0;31m---------------------------------------------------------------------------\u001b[0m",
      "\u001b[0;31mIOError\u001b[0m                                   Traceback (most recent call last)",
      "\u001b[0;32m<ipython-input-2-7386911cbc3a>\u001b[0m in \u001b[0;36m<module>\u001b[0;34m()\u001b[0m\n\u001b[0;32m----> 1\u001b[0;31m \u001b[0mImage\u001b[0m\u001b[0;34m(\u001b[0m\u001b[0mfilename\u001b[0m\u001b[0;34m=\u001b[0m\u001b[0;34m'images/load_profile.png'\u001b[0m\u001b[0;34m)\u001b[0m\u001b[0;34m\u001b[0m\u001b[0m\n\u001b[0m",
      "\u001b[0;32m/Users/aukauk/anaconda3/envs/python2/lib/python2.7/site-packages/IPython/core/display.pyc\u001b[0m in \u001b[0;36m__init__\u001b[0;34m(self, data, url, filename, format, embed, width, height, retina, unconfined, metadata)\u001b[0m\n\u001b[1;32m    737\u001b[0m         \u001b[0mself\u001b[0m\u001b[0;34m.\u001b[0m\u001b[0munconfined\u001b[0m \u001b[0;34m=\u001b[0m \u001b[0munconfined\u001b[0m\u001b[0;34m\u001b[0m\u001b[0m\n\u001b[1;32m    738\u001b[0m         \u001b[0mself\u001b[0m\u001b[0;34m.\u001b[0m\u001b[0mmetadata\u001b[0m \u001b[0;34m=\u001b[0m \u001b[0mmetadata\u001b[0m\u001b[0;34m\u001b[0m\u001b[0m\n\u001b[0;32m--> 739\u001b[0;31m         \u001b[0msuper\u001b[0m\u001b[0;34m(\u001b[0m\u001b[0mImage\u001b[0m\u001b[0;34m,\u001b[0m \u001b[0mself\u001b[0m\u001b[0;34m)\u001b[0m\u001b[0;34m.\u001b[0m\u001b[0m__init__\u001b[0m\u001b[0;34m(\u001b[0m\u001b[0mdata\u001b[0m\u001b[0;34m=\u001b[0m\u001b[0mdata\u001b[0m\u001b[0;34m,\u001b[0m \u001b[0murl\u001b[0m\u001b[0;34m=\u001b[0m\u001b[0murl\u001b[0m\u001b[0;34m,\u001b[0m \u001b[0mfilename\u001b[0m\u001b[0;34m=\u001b[0m\u001b[0mfilename\u001b[0m\u001b[0;34m)\u001b[0m\u001b[0;34m\u001b[0m\u001b[0m\n\u001b[0m\u001b[1;32m    740\u001b[0m \u001b[0;34m\u001b[0m\u001b[0m\n\u001b[1;32m    741\u001b[0m         \u001b[0;32mif\u001b[0m \u001b[0mretina\u001b[0m\u001b[0;34m:\u001b[0m\u001b[0;34m\u001b[0m\u001b[0m\n",
      "\u001b[0;32m/Users/aukauk/anaconda3/envs/python2/lib/python2.7/site-packages/IPython/core/display.pyc\u001b[0m in \u001b[0;36m__init__\u001b[0;34m(self, data, url, filename)\u001b[0m\n\u001b[1;32m    384\u001b[0m         \u001b[0mself\u001b[0m\u001b[0;34m.\u001b[0m\u001b[0mfilename\u001b[0m \u001b[0;34m=\u001b[0m \u001b[0mNone\u001b[0m \u001b[0;32mif\u001b[0m \u001b[0mfilename\u001b[0m \u001b[0;32mis\u001b[0m \u001b[0mNone\u001b[0m \u001b[0;32melse\u001b[0m \u001b[0municode_type\u001b[0m\u001b[0;34m(\u001b[0m\u001b[0mfilename\u001b[0m\u001b[0;34m)\u001b[0m\u001b[0;34m\u001b[0m\u001b[0m\n\u001b[1;32m    385\u001b[0m \u001b[0;34m\u001b[0m\u001b[0m\n\u001b[0;32m--> 386\u001b[0;31m         \u001b[0mself\u001b[0m\u001b[0;34m.\u001b[0m\u001b[0mreload\u001b[0m\u001b[0;34m(\u001b[0m\u001b[0;34m)\u001b[0m\u001b[0;34m\u001b[0m\u001b[0m\n\u001b[0m\u001b[1;32m    387\u001b[0m         \u001b[0mself\u001b[0m\u001b[0;34m.\u001b[0m\u001b[0m_check_data\u001b[0m\u001b[0;34m(\u001b[0m\u001b[0;34m)\u001b[0m\u001b[0;34m\u001b[0m\u001b[0m\n\u001b[1;32m    388\u001b[0m \u001b[0;34m\u001b[0m\u001b[0m\n",
      "\u001b[0;32m/Users/aukauk/anaconda3/envs/python2/lib/python2.7/site-packages/IPython/core/display.pyc\u001b[0m in \u001b[0;36mreload\u001b[0;34m(self)\u001b[0m\n\u001b[1;32m    759\u001b[0m         \u001b[0;34m\"\"\"Reload the raw data from file or URL.\"\"\"\u001b[0m\u001b[0;34m\u001b[0m\u001b[0m\n\u001b[1;32m    760\u001b[0m         \u001b[0;32mif\u001b[0m \u001b[0mself\u001b[0m\u001b[0;34m.\u001b[0m\u001b[0membed\u001b[0m\u001b[0;34m:\u001b[0m\u001b[0;34m\u001b[0m\u001b[0m\n\u001b[0;32m--> 761\u001b[0;31m             \u001b[0msuper\u001b[0m\u001b[0;34m(\u001b[0m\u001b[0mImage\u001b[0m\u001b[0;34m,\u001b[0m\u001b[0mself\u001b[0m\u001b[0;34m)\u001b[0m\u001b[0;34m.\u001b[0m\u001b[0mreload\u001b[0m\u001b[0;34m(\u001b[0m\u001b[0;34m)\u001b[0m\u001b[0;34m\u001b[0m\u001b[0m\n\u001b[0m\u001b[1;32m    762\u001b[0m             \u001b[0;32mif\u001b[0m \u001b[0mself\u001b[0m\u001b[0;34m.\u001b[0m\u001b[0mretina\u001b[0m\u001b[0;34m:\u001b[0m\u001b[0;34m\u001b[0m\u001b[0m\n\u001b[1;32m    763\u001b[0m                 \u001b[0mself\u001b[0m\u001b[0;34m.\u001b[0m\u001b[0m_retina_shape\u001b[0m\u001b[0;34m(\u001b[0m\u001b[0;34m)\u001b[0m\u001b[0;34m\u001b[0m\u001b[0m\n",
      "\u001b[0;32m/Users/aukauk/anaconda3/envs/python2/lib/python2.7/site-packages/IPython/core/display.pyc\u001b[0m in \u001b[0;36mreload\u001b[0;34m(self)\u001b[0m\n\u001b[1;32m    402\u001b[0m         \u001b[0;34m\"\"\"Reload the raw data from file or URL.\"\"\"\u001b[0m\u001b[0;34m\u001b[0m\u001b[0m\n\u001b[1;32m    403\u001b[0m         \u001b[0;32mif\u001b[0m \u001b[0mself\u001b[0m\u001b[0;34m.\u001b[0m\u001b[0mfilename\u001b[0m \u001b[0;32mis\u001b[0m \u001b[0;32mnot\u001b[0m \u001b[0mNone\u001b[0m\u001b[0;34m:\u001b[0m\u001b[0;34m\u001b[0m\u001b[0m\n\u001b[0;32m--> 404\u001b[0;31m             \u001b[0;32mwith\u001b[0m \u001b[0mopen\u001b[0m\u001b[0;34m(\u001b[0m\u001b[0mself\u001b[0m\u001b[0;34m.\u001b[0m\u001b[0mfilename\u001b[0m\u001b[0;34m,\u001b[0m \u001b[0mself\u001b[0m\u001b[0;34m.\u001b[0m\u001b[0m_read_flags\u001b[0m\u001b[0;34m)\u001b[0m \u001b[0;32mas\u001b[0m \u001b[0mf\u001b[0m\u001b[0;34m:\u001b[0m\u001b[0;34m\u001b[0m\u001b[0m\n\u001b[0m\u001b[1;32m    405\u001b[0m                 \u001b[0mself\u001b[0m\u001b[0;34m.\u001b[0m\u001b[0mdata\u001b[0m \u001b[0;34m=\u001b[0m \u001b[0mf\u001b[0m\u001b[0;34m.\u001b[0m\u001b[0mread\u001b[0m\u001b[0;34m(\u001b[0m\u001b[0;34m)\u001b[0m\u001b[0;34m\u001b[0m\u001b[0m\n\u001b[1;32m    406\u001b[0m         \u001b[0;32melif\u001b[0m \u001b[0mself\u001b[0m\u001b[0;34m.\u001b[0m\u001b[0murl\u001b[0m \u001b[0;32mis\u001b[0m \u001b[0;32mnot\u001b[0m \u001b[0mNone\u001b[0m\u001b[0;34m:\u001b[0m\u001b[0;34m\u001b[0m\u001b[0m\n",
      "\u001b[0;31mIOError\u001b[0m: [Errno 2] No such file or directory: u'images/load_profile.png'"
     ]
    }
   ],
   "source": [
    "Image(filename='images/load_profile.png')"
   ]
  },
  {
   "cell_type": "markdown",
   "metadata": {},
   "source": [
    "Reading our historic load profile data in the dataframe."
   ]
  },
  {
   "cell_type": "code",
   "execution_count": null,
   "metadata": {
    "collapsed": false,
    "scrolled": true
   },
   "outputs": [],
   "source": [
    "df=pd.read_csv('data/TMP_AWR_LOAD_PROFILE_AGG.csv', sep='|',parse_dates=True)\n",
    "df.head()"
   ]
  },
  {
   "cell_type": "markdown",
   "metadata": {},
   "source": [
    "As we can we have the data for several statistics viz. Global Cache blocks received, Transactions, Logical read (blocks), Global Cache blocks served, etc from the AWR load profile start from date 03-OCT-14  until 02-NOV-15.\n",
    "I am interested in forecasting only stat_per_sec information on this AWR Load profile, so using pivot function in pandas we get the following reconstructed dataframe.      "
   ]
  },
  {
   "cell_type": "code",
   "execution_count": 89,
   "metadata": {
    "collapsed": false
   },
   "outputs": [
    {
     "data": {
      "text/html": [
       "<div>\n",
       "<table border=\"1\" class=\"dataframe\">\n",
       "  <thead>\n",
       "    <tr style=\"text-align: right;\">\n",
       "      <th>stat_name</th>\n",
       "      <th>Background CPU(s)</th>\n",
       "      <th>Block changes</th>\n",
       "      <th>DB CPU(s)</th>\n",
       "      <th>DB Time(s)</th>\n",
       "      <th>Executes (SQL)</th>\n",
       "      <th>Global Cache blocks received</th>\n",
       "      <th>Global Cache blocks served</th>\n",
       "      <th>Hard parses (SQL)</th>\n",
       "      <th>IM scan rows</th>\n",
       "      <th>Logical read (blocks)</th>\n",
       "      <th>...</th>\n",
       "      <th>Read IO (MB)</th>\n",
       "      <th>Read IO requests</th>\n",
       "      <th>Redo size (bytes)</th>\n",
       "      <th>Rollbacks</th>\n",
       "      <th>SQL Work Area (MB)</th>\n",
       "      <th>Session Logical Read IM</th>\n",
       "      <th>Transactions</th>\n",
       "      <th>User calls</th>\n",
       "      <th>Write IO (MB)</th>\n",
       "      <th>Write IO requests</th>\n",
       "    </tr>\n",
       "    <tr>\n",
       "      <th>start_time</th>\n",
       "      <th></th>\n",
       "      <th></th>\n",
       "      <th></th>\n",
       "      <th></th>\n",
       "      <th></th>\n",
       "      <th></th>\n",
       "      <th></th>\n",
       "      <th></th>\n",
       "      <th></th>\n",
       "      <th></th>\n",
       "      <th></th>\n",
       "      <th></th>\n",
       "      <th></th>\n",
       "      <th></th>\n",
       "      <th></th>\n",
       "      <th></th>\n",
       "      <th></th>\n",
       "      <th></th>\n",
       "      <th></th>\n",
       "      <th></th>\n",
       "      <th></th>\n",
       "    </tr>\n",
       "  </thead>\n",
       "  <tbody>\n",
       "    <tr>\n",
       "      <th>01-APR-15 08.00.00.000000 AM</th>\n",
       "      <td>2.34</td>\n",
       "      <td>7171.66</td>\n",
       "      <td>8.34</td>\n",
       "      <td>21.33</td>\n",
       "      <td>7295.85</td>\n",
       "      <td>4067.55</td>\n",
       "      <td>4067.66</td>\n",
       "      <td>0.53</td>\n",
       "      <td>0</td>\n",
       "      <td>368308.41</td>\n",
       "      <td>...</td>\n",
       "      <td>146.02</td>\n",
       "      <td>12323.87</td>\n",
       "      <td>2520626.66</td>\n",
       "      <td>204.03</td>\n",
       "      <td>471.86</td>\n",
       "      <td>NaN</td>\n",
       "      <td>342.13</td>\n",
       "      <td>3172.36</td>\n",
       "      <td>7.38</td>\n",
       "      <td>791.23</td>\n",
       "    </tr>\n",
       "    <tr>\n",
       "      <th>01-APR-15 10.00.00.000000 PM</th>\n",
       "      <td>1.88</td>\n",
       "      <td>5829.02</td>\n",
       "      <td>5.75</td>\n",
       "      <td>14.98</td>\n",
       "      <td>4943.24</td>\n",
       "      <td>3371.89</td>\n",
       "      <td>3374.17</td>\n",
       "      <td>0.41</td>\n",
       "      <td>0</td>\n",
       "      <td>274450.76</td>\n",
       "      <td>...</td>\n",
       "      <td>237.88</td>\n",
       "      <td>9459.97</td>\n",
       "      <td>1708287.87</td>\n",
       "      <td>143.23</td>\n",
       "      <td>282.08</td>\n",
       "      <td>NaN</td>\n",
       "      <td>243.01</td>\n",
       "      <td>2288.04</td>\n",
       "      <td>5.59</td>\n",
       "      <td>603.88</td>\n",
       "    </tr>\n",
       "    <tr>\n",
       "      <th>01-JAN-15 08.00.00.000000 AM</th>\n",
       "      <td>NaN</td>\n",
       "      <td>1746.34</td>\n",
       "      <td>1.80</td>\n",
       "      <td>4.07</td>\n",
       "      <td>2277.13</td>\n",
       "      <td>1618.04</td>\n",
       "      <td>1617.80</td>\n",
       "      <td>0.30</td>\n",
       "      <td>NaN</td>\n",
       "      <td>119422.36</td>\n",
       "      <td>...</td>\n",
       "      <td>160.56</td>\n",
       "      <td>3976.52</td>\n",
       "      <td>577855.43</td>\n",
       "      <td>74.32</td>\n",
       "      <td>113.44</td>\n",
       "      <td>NaN</td>\n",
       "      <td>139.59</td>\n",
       "      <td>970.47</td>\n",
       "      <td>1.61</td>\n",
       "      <td>162.10</td>\n",
       "    </tr>\n",
       "    <tr>\n",
       "      <th>01-JUL-15 08.00.00.000000 AM</th>\n",
       "      <td>2.07</td>\n",
       "      <td>6530.64</td>\n",
       "      <td>6.92</td>\n",
       "      <td>18.46</td>\n",
       "      <td>6485.98</td>\n",
       "      <td>4164.01</td>\n",
       "      <td>4164.06</td>\n",
       "      <td>1.67</td>\n",
       "      <td>0</td>\n",
       "      <td>306467.96</td>\n",
       "      <td>...</td>\n",
       "      <td>155.87</td>\n",
       "      <td>9908.58</td>\n",
       "      <td>2263412.36</td>\n",
       "      <td>198.20</td>\n",
       "      <td>424.66</td>\n",
       "      <td>NaN</td>\n",
       "      <td>334.05</td>\n",
       "      <td>3064.53</td>\n",
       "      <td>6.76</td>\n",
       "      <td>721.93</td>\n",
       "    </tr>\n",
       "    <tr>\n",
       "      <th>01-JUL-15 10.00.00.000000 PM</th>\n",
       "      <td>1.80</td>\n",
       "      <td>5853.14</td>\n",
       "      <td>5.19</td>\n",
       "      <td>14.20</td>\n",
       "      <td>4787.97</td>\n",
       "      <td>3469.74</td>\n",
       "      <td>3469.68</td>\n",
       "      <td>0.94</td>\n",
       "      <td>0</td>\n",
       "      <td>248284.74</td>\n",
       "      <td>...</td>\n",
       "      <td>192.59</td>\n",
       "      <td>8087.20</td>\n",
       "      <td>1731536.10</td>\n",
       "      <td>151.27</td>\n",
       "      <td>288.96</td>\n",
       "      <td>NaN</td>\n",
       "      <td>259.02</td>\n",
       "      <td>2370.28</td>\n",
       "      <td>5.70</td>\n",
       "      <td>606.48</td>\n",
       "    </tr>\n",
       "  </tbody>\n",
       "</table>\n",
       "<p>5 rows × 24 columns</p>\n",
       "</div>"
      ],
      "text/plain": [
       "stat_name                     Background CPU(s)  Block changes  DB CPU(s)  \\\n",
       "start_time                                                                  \n",
       "01-APR-15 08.00.00.000000 AM               2.34        7171.66       8.34   \n",
       "01-APR-15 10.00.00.000000 PM               1.88        5829.02       5.75   \n",
       "01-JAN-15 08.00.00.000000 AM                NaN        1746.34       1.80   \n",
       "01-JUL-15 08.00.00.000000 AM               2.07        6530.64       6.92   \n",
       "01-JUL-15 10.00.00.000000 PM               1.80        5853.14       5.19   \n",
       "\n",
       "stat_name                     DB Time(s)  Executes (SQL)  \\\n",
       "start_time                                                 \n",
       "01-APR-15 08.00.00.000000 AM       21.33         7295.85   \n",
       "01-APR-15 10.00.00.000000 PM       14.98         4943.24   \n",
       "01-JAN-15 08.00.00.000000 AM        4.07         2277.13   \n",
       "01-JUL-15 08.00.00.000000 AM       18.46         6485.98   \n",
       "01-JUL-15 10.00.00.000000 PM       14.20         4787.97   \n",
       "\n",
       "stat_name                     Global Cache blocks received  \\\n",
       "start_time                                                   \n",
       "01-APR-15 08.00.00.000000 AM                       4067.55   \n",
       "01-APR-15 10.00.00.000000 PM                       3371.89   \n",
       "01-JAN-15 08.00.00.000000 AM                       1618.04   \n",
       "01-JUL-15 08.00.00.000000 AM                       4164.01   \n",
       "01-JUL-15 10.00.00.000000 PM                       3469.74   \n",
       "\n",
       "stat_name                     Global Cache blocks served  Hard parses (SQL)  \\\n",
       "start_time                                                                    \n",
       "01-APR-15 08.00.00.000000 AM                     4067.66               0.53   \n",
       "01-APR-15 10.00.00.000000 PM                     3374.17               0.41   \n",
       "01-JAN-15 08.00.00.000000 AM                     1617.80               0.30   \n",
       "01-JUL-15 08.00.00.000000 AM                     4164.06               1.67   \n",
       "01-JUL-15 10.00.00.000000 PM                     3469.68               0.94   \n",
       "\n",
       "stat_name                     IM scan rows  Logical read (blocks)  \\\n",
       "start_time                                                          \n",
       "01-APR-15 08.00.00.000000 AM             0              368308.41   \n",
       "01-APR-15 10.00.00.000000 PM             0              274450.76   \n",
       "01-JAN-15 08.00.00.000000 AM           NaN              119422.36   \n",
       "01-JUL-15 08.00.00.000000 AM             0              306467.96   \n",
       "01-JUL-15 10.00.00.000000 PM             0              248284.74   \n",
       "\n",
       "stat_name                           ...          Read IO (MB)  \\\n",
       "start_time                          ...                         \n",
       "01-APR-15 08.00.00.000000 AM        ...                146.02   \n",
       "01-APR-15 10.00.00.000000 PM        ...                237.88   \n",
       "01-JAN-15 08.00.00.000000 AM        ...                160.56   \n",
       "01-JUL-15 08.00.00.000000 AM        ...                155.87   \n",
       "01-JUL-15 10.00.00.000000 PM        ...                192.59   \n",
       "\n",
       "stat_name                     Read IO requests  Redo size (bytes)  Rollbacks  \\\n",
       "start_time                                                                     \n",
       "01-APR-15 08.00.00.000000 AM          12323.87         2520626.66     204.03   \n",
       "01-APR-15 10.00.00.000000 PM           9459.97         1708287.87     143.23   \n",
       "01-JAN-15 08.00.00.000000 AM           3976.52          577855.43      74.32   \n",
       "01-JUL-15 08.00.00.000000 AM           9908.58         2263412.36     198.20   \n",
       "01-JUL-15 10.00.00.000000 PM           8087.20         1731536.10     151.27   \n",
       "\n",
       "stat_name                     SQL Work Area (MB)  Session Logical Read IM  \\\n",
       "start_time                                                                  \n",
       "01-APR-15 08.00.00.000000 AM              471.86                      NaN   \n",
       "01-APR-15 10.00.00.000000 PM              282.08                      NaN   \n",
       "01-JAN-15 08.00.00.000000 AM              113.44                      NaN   \n",
       "01-JUL-15 08.00.00.000000 AM              424.66                      NaN   \n",
       "01-JUL-15 10.00.00.000000 PM              288.96                      NaN   \n",
       "\n",
       "stat_name                     Transactions  User calls  Write IO (MB)  \\\n",
       "start_time                                                              \n",
       "01-APR-15 08.00.00.000000 AM        342.13     3172.36           7.38   \n",
       "01-APR-15 10.00.00.000000 PM        243.01     2288.04           5.59   \n",
       "01-JAN-15 08.00.00.000000 AM        139.59      970.47           1.61   \n",
       "01-JUL-15 08.00.00.000000 AM        334.05     3064.53           6.76   \n",
       "01-JUL-15 10.00.00.000000 PM        259.02     2370.28           5.70   \n",
       "\n",
       "stat_name                     Write IO requests  \n",
       "start_time                                       \n",
       "01-APR-15 08.00.00.000000 AM             791.23  \n",
       "01-APR-15 10.00.00.000000 PM             603.88  \n",
       "01-JAN-15 08.00.00.000000 AM             162.10  \n",
       "01-JUL-15 08.00.00.000000 AM             721.93  \n",
       "01-JUL-15 10.00.00.000000 PM             606.48  \n",
       "\n",
       "[5 rows x 24 columns]"
      ]
     },
     "execution_count": 89,
     "metadata": {},
     "output_type": "execute_result"
    }
   ],
   "source": [
    "df=df.pivot_table(index='start_time', columns='stat_name', values='stat_per_sec')\n",
    "df.head()"
   ]
  },
  {
   "cell_type": "code",
   "execution_count": 90,
   "metadata": {
    "collapsed": false
   },
   "outputs": [
    {
     "name": "stdout",
     "output_type": "stream",
     "text": [
      "Index(['Background CPU(s)', 'Block changes', 'DB CPU(s)', 'DB Time(s)',\n",
      "       'Executes (SQL)', 'Global Cache blocks received',\n",
      "       'Global Cache blocks served', 'Hard parses (SQL)', 'IM scan rows',\n",
      "       'Logical read (blocks)', 'Logons', 'Parses (SQL)',\n",
      "       'Physical read (blocks)', 'Physical write (blocks)', 'Read IO (MB)',\n",
      "       'Read IO requests', 'Redo size (bytes)', 'Rollbacks',\n",
      "       'SQL Work Area (MB)', 'Session Logical Read IM', 'Transactions',\n",
      "       'User calls', 'Write IO (MB)', 'Write IO requests'],\n",
      "      dtype='object', name='stat_name')\n"
     ]
    }
   ],
   "source": [
    "print (df.columns)"
   ]
  },
  {
   "cell_type": "markdown",
   "metadata": {},
   "source": [
    "## Distribution Selection"
   ]
  },
  {
   "cell_type": "markdown",
   "metadata": {},
   "source": [
    "All of these database statistics are continous random variables, so we model using some continous distributions.\n",
    "scipy offers several continous distributions for the purpose of modelling, viz Gamma, Normal, Anglit, Arcsine, Beta, Cauchy etc.\n",
    "\n",
    "Once we have the estimated model, we can then use the Kolmogorov-Smirov test to evaluate your fit using scipy.stats.kstest. Lets start with the most popular gamma distribution.\n",
    "\n",
    "Say I am interested in Background CPU(s) information, calculating the gamma distribution parameters alpha and beta.\n"
   ]
  },
  {
   "cell_type": "code",
   "execution_count": 91,
   "metadata": {
    "collapsed": false
   },
   "outputs": [
    {
     "data": {
      "text/plain": [
       "(2.1573536895674299, 0.2304741016253824)"
      ]
     },
     "execution_count": 91,
     "metadata": {},
     "output_type": "execute_result"
    }
   ],
   "source": [
    "sample_mean=df['Background CPU(s)'].mean()\n",
    "sample_var=np.var(df['Background CPU(s)'], ddof=1)\n",
    "(sample_mean,sample_var)"
   ]
  },
  {
   "cell_type": "markdown",
   "metadata": {},
   "source": [
    "Alphas and Betas of Gamma distribution:"
   ]
  },
  {
   "cell_type": "code",
   "execution_count": 28,
   "metadata": {
    "collapsed": false
   },
   "outputs": [
    {
     "data": {
      "text/plain": [
       "(20.193917273426234, 9.3605037370925057)"
      ]
     },
     "execution_count": 28,
     "metadata": {},
     "output_type": "execute_result"
    }
   ],
   "source": [
    "###############\n",
    "#### Gamma ####\n",
    "###############\n",
    "\n",
    "alpha = sample_mean**2 / sample_var\n",
    "beta = sample_mean / sample_var \n",
    "alpha,beta"
   ]
  },
  {
   "cell_type": "code",
   "execution_count": 58,
   "metadata": {
    "collapsed": false
   },
   "outputs": [
    {
     "data": {
      "text/plain": [
       "array([ 2.34,  1.88,   nan,  2.07,  1.8 ,  2.68,  2.03,  2.33,  2.1 ,\n",
       "        1.23,  2.88,  1.63,  3.17,  2.21,  2.22,  1.59,  1.66,   nan,\n",
       "        2.56,  2.97,  2.31,   nan,  2.03,  1.71,  2.61,  2.09,  2.47,\n",
       "        2.2 ,  2.35,  2.99,  2.1 ,  1.97,  1.21,  2.08,  1.63,   nan,\n",
       "        1.95,  1.23,  1.04,  2.58,  1.96,  2.77,  2.14,  2.03,   nan,\n",
       "         nan,  2.06,  1.59,   nan,  2.67,  2.38,  1.94,  2.59,  2.17,\n",
       "        2.62,  1.88,   nan,  1.96,  1.63,   nan,  1.91,   nan,  1.73,\n",
       "        2.16,  1.24,  2.57,  1.98,  2.61,  1.85,   nan,  2.42,  1.96,\n",
       "        1.99,  1.58,  2.29,   nan,  2.26,  1.73,  2.44,  1.29,  2.61,\n",
       "        2.03,   nan,   nan,  1.77,  2.43,  2.54,  1.9 ,  2.01,   nan,\n",
       "        2.16,  1.63,  2.06,  2.56,  1.94,   nan,  2.04,  1.99,  2.21,\n",
       "        2.41,  1.86,   nan,   nan,  2.03,  1.69,  2.59,  2.01,  2.09,\n",
       "        2.23,  1.17,   nan,  2.14,  3.26,  2.24,  2.31,  1.76,  1.64,\n",
       "         nan,  3.02,   nan,  1.99,  1.64,  2.51,  2.  ,  2.16,   nan,\n",
       "        2.  ,  3.06,  2.08,  2.11,  1.17,  1.51,  2.93,  1.99,  1.24,\n",
       "        2.43,  1.96,  2.73,  2.06,  2.08,   nan,   nan,  2.87,  2.12,\n",
       "        1.92,  1.46,   nan,  2.84,  2.33,  2.33,  1.89,  2.  ,  2.64,\n",
       "        1.99,   nan,  1.93,  1.87,  1.62,   nan,  2.49,  2.84,  2.23,\n",
       "         nan,  1.66,  2.09,  1.16,  2.6 ,  1.94,   nan,  2.23,  2.59,\n",
       "        1.91,  1.88,  1.56,  2.66,   nan,  2.16,  1.66,  2.46,  1.28,\n",
       "        1.93,   nan,   nan,  2.29,  2.54,  2.47,  1.93,  1.83,  0.95,\n",
       "         nan,  1.99,  1.59,  2.03,  2.33,  1.84,   nan,   nan,  2.29,\n",
       "        3.31,  2.32,  2.41,  1.89,   nan,  2.34,   nan,  1.98,  1.65,\n",
       "        2.57,  1.95,  1.83,  2.19,  1.18,   nan,  2.24,  3.08,  2.13,\n",
       "        2.33,  1.82,  1.94,   nan,  2.58,  2.85,  2.24,  1.94,  1.57,\n",
       "        2.46,  2.34,  2.63,  1.93,   nan,  2.09,  2.93,  1.94,  2.16,\n",
       "        1.29,  3.07,  2.39,   nan,  2.43,  2.84,  2.16,  1.83,  1.06,\n",
       "        2.41,  1.86,  2.13,  2.56,  1.86,  1.98,   nan,   nan,  2.79,\n",
       "        2.17,  3.07,  2.19,   nan,  2.79,  2.13,  2.26,  1.79,  2.45,\n",
       "        1.92,  2.58,  1.96,   nan,  2.63,  1.15,  1.99,  2.96,  2.34,\n",
       "         nan,  2.72,  2.16,  1.62,  1.45,  2.06,  1.1 ,  2.42,  1.75,\n",
       "        2.6 ,  1.99,   nan,  2.29,  2.58,  1.93,  2.92,  2.27,  2.68,\n",
       "        1.41,  2.74,  1.83,  2.14,  1.64,  2.31,  1.2 ,  2.48,  2.04,\n",
       "         nan,   nan,  2.29,  2.35,  2.44,  1.78,  2.74,  1.53,  2.06,\n",
       "        2.05,  1.6 ,  1.84,  2.37,  1.92,   nan,   nan,  2.26,  3.38,\n",
       "        2.29,  2.29,  1.79,   nan,  2.27,  2.48,  2.01,  1.68,  2.34,\n",
       "        1.76,  1.98,  2.16,  1.17,   nan,  2.19,  3.16,  2.12,  2.08,\n",
       "        1.74,  2.37,   nan,  2.84,  2.24,  2.55,  1.98,  1.59,  2.24,\n",
       "        1.73,  2.69,  1.94,   nan,  2.01,  2.96,  1.89,  3.21,  2.44,\n",
       "         nan,  2.86,  2.46,  2.06,  1.76,  2.55,  1.74,  2.  ,   nan,\n",
       "         nan,  2.73,  2.11,  3.18,  2.31,  2.58,  2.13,  2.04,  1.71,\n",
       "        2.23,  1.58,  1.93,   nan,  2.59,  1.24,  2.12,  3.05,  2.3 ,\n",
       "         nan,  2.57,  2.08,  3.26,  1.71,  1.89,  1.12,  2.41,  1.86,\n",
       "        2.64,  2.03,   nan,  2.31,  2.69,  2.08,  2.94,  2.11,  2.51,\n",
       "        1.34,  2.85,  3.29,  0.85,  2.61,  2.08,   nan,   nan,  2.31,\n",
       "        2.44,  2.69,  1.85,  2.69,  1.33,  2.73,  3.17,  2.  ,  1.58,\n",
       "        1.83,  2.51,  2.01,   nan,  2.26,  3.18,  2.16,  2.5 ,  2.03,\n",
       "         nan,  2.64,  3.06,  2.  ,  1.66,  2.34,  1.84,  2.04,  2.38,\n",
       "        1.28,   nan,  2.2 ,  3.03,  2.11,  2.49,  1.39,  2.34,   nan,\n",
       "        2.7 ,  2.97,  1.94,  1.58,  2.26,  1.77,  2.19,  2.  ,   nan,\n",
       "        2.06,  2.96,  2.24,  3.13,  2.31,   nan,  1.38,  1.81,  1.11,\n",
       "        2.48,  1.83,  2.07,   nan])"
      ]
     },
     "execution_count": 58,
     "metadata": {},
     "output_type": "execute_result"
    }
   ],
   "source": [
    "cpu=df['Background CPU(s)'].values\n",
    "cpu"
   ]
  },
  {
   "cell_type": "markdown",
   "metadata": {},
   "source": [
    "## MOM Estimation"
   ]
  },
  {
   "cell_type": "markdown",
   "metadata": {},
   "source": [
    "Using estimated parameters and plot the distribution on top of data"
   ]
  },
  {
   "cell_type": "code",
   "execution_count": 29,
   "metadata": {
    "collapsed": true
   },
   "outputs": [],
   "source": [
    "gamma_rv = scs.gamma(a=alpha, scale=1/beta)"
   ]
  },
  {
   "cell_type": "code",
   "execution_count": 30,
   "metadata": {
    "collapsed": false
   },
   "outputs": [],
   "source": [
    "# Get the probability for each value in the data\n",
    "x_vals = np.linspace(df['Background CPU(s)'].min(), df['Background CPU(s)'].max())\n",
    "gamma_p = gamma_rv.pdf(x_vals)"
   ]
  },
  {
   "cell_type": "code",
   "execution_count": 53,
   "metadata": {
    "collapsed": false
   },
   "outputs": [
    {
     "data": {
      "text/html": [
       "<div>\n",
       "<table border=\"1\" class=\"dataframe\">\n",
       "  <thead>\n",
       "    <tr style=\"text-align: right;\">\n",
       "      <th>stat_name</th>\n",
       "      <th>Background CPU(s)</th>\n",
       "      <th>Block changes</th>\n",
       "      <th>DB CPU(s)</th>\n",
       "      <th>DB Time(s)</th>\n",
       "      <th>Executes (SQL)</th>\n",
       "      <th>Global Cache blocks received</th>\n",
       "      <th>Global Cache blocks served</th>\n",
       "      <th>Hard parses (SQL)</th>\n",
       "      <th>IM scan rows</th>\n",
       "      <th>Logical read (blocks)</th>\n",
       "      <th>...</th>\n",
       "      <th>Read IO (MB)</th>\n",
       "      <th>Read IO requests</th>\n",
       "      <th>Redo size (bytes)</th>\n",
       "      <th>Rollbacks</th>\n",
       "      <th>SQL Work Area (MB)</th>\n",
       "      <th>Session Logical Read IM</th>\n",
       "      <th>Transactions</th>\n",
       "      <th>User calls</th>\n",
       "      <th>Write IO (MB)</th>\n",
       "      <th>Write IO requests</th>\n",
       "    </tr>\n",
       "    <tr>\n",
       "      <th>start_time</th>\n",
       "      <th></th>\n",
       "      <th></th>\n",
       "      <th></th>\n",
       "      <th></th>\n",
       "      <th></th>\n",
       "      <th></th>\n",
       "      <th></th>\n",
       "      <th></th>\n",
       "      <th></th>\n",
       "      <th></th>\n",
       "      <th></th>\n",
       "      <th></th>\n",
       "      <th></th>\n",
       "      <th></th>\n",
       "      <th></th>\n",
       "      <th></th>\n",
       "      <th></th>\n",
       "      <th></th>\n",
       "      <th></th>\n",
       "      <th></th>\n",
       "      <th></th>\n",
       "    </tr>\n",
       "  </thead>\n",
       "  <tbody>\n",
       "    <tr>\n",
       "      <th>01-APR-15 08.00.00.000000 AM</th>\n",
       "      <td>2.34</td>\n",
       "      <td>7171.66</td>\n",
       "      <td>8.34</td>\n",
       "      <td>21.33</td>\n",
       "      <td>7295.85</td>\n",
       "      <td>4067.55</td>\n",
       "      <td>4067.66</td>\n",
       "      <td>0.53</td>\n",
       "      <td>0</td>\n",
       "      <td>368308.41</td>\n",
       "      <td>...</td>\n",
       "      <td>146.02</td>\n",
       "      <td>12323.87</td>\n",
       "      <td>2520626.66</td>\n",
       "      <td>204.03</td>\n",
       "      <td>471.86</td>\n",
       "      <td>NaN</td>\n",
       "      <td>342.13</td>\n",
       "      <td>3172.36</td>\n",
       "      <td>7.38</td>\n",
       "      <td>791.23</td>\n",
       "    </tr>\n",
       "    <tr>\n",
       "      <th>01-APR-15 10.00.00.000000 PM</th>\n",
       "      <td>1.88</td>\n",
       "      <td>5829.02</td>\n",
       "      <td>5.75</td>\n",
       "      <td>14.98</td>\n",
       "      <td>4943.24</td>\n",
       "      <td>3371.89</td>\n",
       "      <td>3374.17</td>\n",
       "      <td>0.41</td>\n",
       "      <td>0</td>\n",
       "      <td>274450.76</td>\n",
       "      <td>...</td>\n",
       "      <td>237.88</td>\n",
       "      <td>9459.97</td>\n",
       "      <td>1708287.87</td>\n",
       "      <td>143.23</td>\n",
       "      <td>282.08</td>\n",
       "      <td>NaN</td>\n",
       "      <td>243.01</td>\n",
       "      <td>2288.04</td>\n",
       "      <td>5.59</td>\n",
       "      <td>603.88</td>\n",
       "    </tr>\n",
       "    <tr>\n",
       "      <th>01-JAN-15 08.00.00.000000 AM</th>\n",
       "      <td>NaN</td>\n",
       "      <td>1746.34</td>\n",
       "      <td>1.80</td>\n",
       "      <td>4.07</td>\n",
       "      <td>2277.13</td>\n",
       "      <td>1618.04</td>\n",
       "      <td>1617.80</td>\n",
       "      <td>0.30</td>\n",
       "      <td>NaN</td>\n",
       "      <td>119422.36</td>\n",
       "      <td>...</td>\n",
       "      <td>160.56</td>\n",
       "      <td>3976.52</td>\n",
       "      <td>577855.43</td>\n",
       "      <td>74.32</td>\n",
       "      <td>113.44</td>\n",
       "      <td>NaN</td>\n",
       "      <td>139.59</td>\n",
       "      <td>970.47</td>\n",
       "      <td>1.61</td>\n",
       "      <td>162.10</td>\n",
       "    </tr>\n",
       "    <tr>\n",
       "      <th>01-JUL-15 08.00.00.000000 AM</th>\n",
       "      <td>2.07</td>\n",
       "      <td>6530.64</td>\n",
       "      <td>6.92</td>\n",
       "      <td>18.46</td>\n",
       "      <td>6485.98</td>\n",
       "      <td>4164.01</td>\n",
       "      <td>4164.06</td>\n",
       "      <td>1.67</td>\n",
       "      <td>0</td>\n",
       "      <td>306467.96</td>\n",
       "      <td>...</td>\n",
       "      <td>155.87</td>\n",
       "      <td>9908.58</td>\n",
       "      <td>2263412.36</td>\n",
       "      <td>198.20</td>\n",
       "      <td>424.66</td>\n",
       "      <td>NaN</td>\n",
       "      <td>334.05</td>\n",
       "      <td>3064.53</td>\n",
       "      <td>6.76</td>\n",
       "      <td>721.93</td>\n",
       "    </tr>\n",
       "    <tr>\n",
       "      <th>01-JUL-15 10.00.00.000000 PM</th>\n",
       "      <td>1.80</td>\n",
       "      <td>5853.14</td>\n",
       "      <td>5.19</td>\n",
       "      <td>14.20</td>\n",
       "      <td>4787.97</td>\n",
       "      <td>3469.74</td>\n",
       "      <td>3469.68</td>\n",
       "      <td>0.94</td>\n",
       "      <td>0</td>\n",
       "      <td>248284.74</td>\n",
       "      <td>...</td>\n",
       "      <td>192.59</td>\n",
       "      <td>8087.20</td>\n",
       "      <td>1731536.10</td>\n",
       "      <td>151.27</td>\n",
       "      <td>288.96</td>\n",
       "      <td>NaN</td>\n",
       "      <td>259.02</td>\n",
       "      <td>2370.28</td>\n",
       "      <td>5.70</td>\n",
       "      <td>606.48</td>\n",
       "    </tr>\n",
       "  </tbody>\n",
       "</table>\n",
       "<p>5 rows × 24 columns</p>\n",
       "</div>"
      ],
      "text/plain": [
       "stat_name                     Background CPU(s)  Block changes  DB CPU(s)  \\\n",
       "start_time                                                                  \n",
       "01-APR-15 08.00.00.000000 AM               2.34        7171.66       8.34   \n",
       "01-APR-15 10.00.00.000000 PM               1.88        5829.02       5.75   \n",
       "01-JAN-15 08.00.00.000000 AM                NaN        1746.34       1.80   \n",
       "01-JUL-15 08.00.00.000000 AM               2.07        6530.64       6.92   \n",
       "01-JUL-15 10.00.00.000000 PM               1.80        5853.14       5.19   \n",
       "\n",
       "stat_name                     DB Time(s)  Executes (SQL)  \\\n",
       "start_time                                                 \n",
       "01-APR-15 08.00.00.000000 AM       21.33         7295.85   \n",
       "01-APR-15 10.00.00.000000 PM       14.98         4943.24   \n",
       "01-JAN-15 08.00.00.000000 AM        4.07         2277.13   \n",
       "01-JUL-15 08.00.00.000000 AM       18.46         6485.98   \n",
       "01-JUL-15 10.00.00.000000 PM       14.20         4787.97   \n",
       "\n",
       "stat_name                     Global Cache blocks received  \\\n",
       "start_time                                                   \n",
       "01-APR-15 08.00.00.000000 AM                       4067.55   \n",
       "01-APR-15 10.00.00.000000 PM                       3371.89   \n",
       "01-JAN-15 08.00.00.000000 AM                       1618.04   \n",
       "01-JUL-15 08.00.00.000000 AM                       4164.01   \n",
       "01-JUL-15 10.00.00.000000 PM                       3469.74   \n",
       "\n",
       "stat_name                     Global Cache blocks served  Hard parses (SQL)  \\\n",
       "start_time                                                                    \n",
       "01-APR-15 08.00.00.000000 AM                     4067.66               0.53   \n",
       "01-APR-15 10.00.00.000000 PM                     3374.17               0.41   \n",
       "01-JAN-15 08.00.00.000000 AM                     1617.80               0.30   \n",
       "01-JUL-15 08.00.00.000000 AM                     4164.06               1.67   \n",
       "01-JUL-15 10.00.00.000000 PM                     3469.68               0.94   \n",
       "\n",
       "stat_name                     IM scan rows  Logical read (blocks)  \\\n",
       "start_time                                                          \n",
       "01-APR-15 08.00.00.000000 AM             0              368308.41   \n",
       "01-APR-15 10.00.00.000000 PM             0              274450.76   \n",
       "01-JAN-15 08.00.00.000000 AM           NaN              119422.36   \n",
       "01-JUL-15 08.00.00.000000 AM             0              306467.96   \n",
       "01-JUL-15 10.00.00.000000 PM             0              248284.74   \n",
       "\n",
       "stat_name                           ...          Read IO (MB)  \\\n",
       "start_time                          ...                         \n",
       "01-APR-15 08.00.00.000000 AM        ...                146.02   \n",
       "01-APR-15 10.00.00.000000 PM        ...                237.88   \n",
       "01-JAN-15 08.00.00.000000 AM        ...                160.56   \n",
       "01-JUL-15 08.00.00.000000 AM        ...                155.87   \n",
       "01-JUL-15 10.00.00.000000 PM        ...                192.59   \n",
       "\n",
       "stat_name                     Read IO requests  Redo size (bytes)  Rollbacks  \\\n",
       "start_time                                                                     \n",
       "01-APR-15 08.00.00.000000 AM          12323.87         2520626.66     204.03   \n",
       "01-APR-15 10.00.00.000000 PM           9459.97         1708287.87     143.23   \n",
       "01-JAN-15 08.00.00.000000 AM           3976.52          577855.43      74.32   \n",
       "01-JUL-15 08.00.00.000000 AM           9908.58         2263412.36     198.20   \n",
       "01-JUL-15 10.00.00.000000 PM           8087.20         1731536.10     151.27   \n",
       "\n",
       "stat_name                     SQL Work Area (MB)  Session Logical Read IM  \\\n",
       "start_time                                                                  \n",
       "01-APR-15 08.00.00.000000 AM              471.86                      NaN   \n",
       "01-APR-15 10.00.00.000000 PM              282.08                      NaN   \n",
       "01-JAN-15 08.00.00.000000 AM              113.44                      NaN   \n",
       "01-JUL-15 08.00.00.000000 AM              424.66                      NaN   \n",
       "01-JUL-15 10.00.00.000000 PM              288.96                      NaN   \n",
       "\n",
       "stat_name                     Transactions  User calls  Write IO (MB)  \\\n",
       "start_time                                                              \n",
       "01-APR-15 08.00.00.000000 AM        342.13     3172.36           7.38   \n",
       "01-APR-15 10.00.00.000000 PM        243.01     2288.04           5.59   \n",
       "01-JAN-15 08.00.00.000000 AM        139.59      970.47           1.61   \n",
       "01-JUL-15 08.00.00.000000 AM        334.05     3064.53           6.76   \n",
       "01-JUL-15 10.00.00.000000 PM        259.02     2370.28           5.70   \n",
       "\n",
       "stat_name                     Write IO requests  \n",
       "start_time                                       \n",
       "01-APR-15 08.00.00.000000 AM             791.23  \n",
       "01-APR-15 10.00.00.000000 PM             603.88  \n",
       "01-JAN-15 08.00.00.000000 AM             162.10  \n",
       "01-JUL-15 08.00.00.000000 AM             721.93  \n",
       "01-JUL-15 10.00.00.000000 PM             606.48  \n",
       "\n",
       "[5 rows x 24 columns]"
      ]
     },
     "execution_count": 53,
     "metadata": {},
     "output_type": "execute_result"
    }
   ],
   "source": [
    "df.head()"
   ]
  },
  {
   "cell_type": "code",
   "execution_count": 33,
   "metadata": {
    "collapsed": false
   },
   "outputs": [
    {
     "data": {
      "image/png": "[encoded data removed]",
      "text/plain": [
       "<matplotlib.figure.Figure at 0x10ebd8a58>"
      ]
     },
     "metadata": {},
     "output_type": "display_data"
    }
   ],
   "source": [
    "'''Use the estimated parameters and plot the distribution on top of data'''\n",
    "fig, ax = plt.subplots()\n",
    "# Plot those values on top of the real data\n",
    "ax = df['Background CPU(s)'].hist(bins=20, normed=1, edgecolor='none', figsize=(10, 7))\n",
    "ax.set_xlabel('Statistics')\n",
    "ax.set_ylabel('Probability Density')\n",
    "ax.set_title('Background CPU(s)')\n",
    "\n",
    "ax.plot(x_vals, gamma_p, color='r', label='Gamma', alpha=0.6)\n",
    "ax.legend()\n",
    "fig.savefig('images/backgroundcpu.png')\n",
    "#py.iplot_mpl(fig, filename='s6_log-scales')"
   ]
  },
  {
   "cell_type": "code",
   "execution_count": 34,
   "metadata": {
    "collapsed": false
   },
   "outputs": [],
   "source": [
    "# Lets put everything in a function \n",
    "# Define a function that plots distribution fitted to one month's of data\n",
    "def plot_mom(df, col):\n",
    "    sample_mean=df[col].mean()\n",
    "    sample_var=np.var(df[col], ddof=1)\n",
    "    alpha = sample_mean**2 / sample_var\n",
    "    beta = sample_mean / sample_var \n",
    "    gamma_rv = scs.gamma(a=alpha, scale=1/beta)\n",
    "    # Get the probability for each value in the data\n",
    "    x_vals = np.linspace(df[col].min(), df[col].max())\n",
    "    gamma_p = gamma_rv.pdf(x_vals)\n",
    "    fig, ax = plt.subplots()\n",
    "    # Plot those values on top of the real data\n",
    "    ax = df[col].hist(bins=20, normed=1, edgecolor='none')\n",
    "    ax.set_xlabel('Statistics')\n",
    "    ax.set_ylabel('Probability Density')\n",
    "    ax.set_title(col)\n",
    "    ax.plot(x_vals, gamma_p, color='r', label='Gamma', alpha=0.6)\n",
    "    ax.legend()"
   ]
  },
  {
   "cell_type": "code",
   "execution_count": 35,
   "metadata": {
    "collapsed": false
   },
   "outputs": [
    {
     "data": {
      "text/plain": [
       "Index(['Background CPU(s)', 'Block changes', 'DB CPU(s)', 'DB Time(s)',\n",
       "       'Executes (SQL)', 'Global Cache blocks received',\n",
       "       'Global Cache blocks served', 'Hard parses (SQL)', 'IM scan rows',\n",
       "       'Logical read (blocks)', 'Logons', 'Parses (SQL)',\n",
       "       'Physical read (blocks)', 'Physical write (blocks)', 'Read IO (MB)',\n",
       "       'Read IO requests', 'Redo size (bytes)', 'Rollbacks',\n",
       "       'SQL Work Area (MB)', 'Session Logical Read IM', 'Transactions',\n",
       "       'User calls', 'Write IO (MB)', 'Write IO requests'],\n",
       "      dtype='object', name='stat_name')"
      ]
     },
     "execution_count": 35,
     "metadata": {},
     "output_type": "execute_result"
    }
   ],
   "source": [
    "df.columns"
   ]
  },
  {
   "cell_type": "markdown",
   "metadata": {},
   "source": [
    "Lets just pick the following important statistics to estimate:\n",
    "\t* 'Background CPU(s)'\n",
    "\t* 'DB CPU(s)',\n",
    "\t* 'Executes (SQL)',\n",
    "\t* 'IM scan rows',\n",
    "\t* 'Hard parses (SQL)',\n",
    "\t* 'Logical read (blocks)',\n",
    "\t* 'Parses (SQL)',\n",
    "\t* 'Physical read (blocks)',\n",
    "\t* 'Physical write (blocks)'"
   ]
  },
  {
   "cell_type": "code",
   "execution_count": 36,
   "metadata": {
    "collapsed": false
   },
   "outputs": [],
   "source": [
    "columns_of_interest=['Background CPU(s)', 'DB CPU(s)', 'Executes (SQL)', 'User calls', 'Hard parses (SQL)', 'Logical read (blocks)', 'Parses (SQL)', 'Physical read (blocks)', 'Physical write (blocks)']"
   ]
  },
  {
   "cell_type": "code",
   "execution_count": 38,
   "metadata": {
    "collapsed": false,
    "scrolled": false
   },
   "outputs": [
    {
     "data": {
      "image/png": "[encoded data removed]",
      "text/plain": [
       "<matplotlib.figure.Figure at 0x10f718898>"
      ]
     },
     "metadata": {},
     "output_type": "display_data"
    },
    {
     "data": {
      "image/png": "[encoded data removed]",
      "text/plain": [
       "<matplotlib.figure.Figure at 0x10fee6a90>"
      ]
     },
     "metadata": {},
     "output_type": "display_data"
    },
    {
     "data": {
      "image/png": "[encoded data removed]",
      "text/plain": [
       "<matplotlib.figure.Figure at 0x110462e80>"
      ]
     },
     "metadata": {},
     "output_type": "display_data"
    },
    {
     "data": {
      "image/png": "[encoded data removed]",
      "text/plain": [
       "<matplotlib.figure.Figure at 0x11045a518>"
      ]
     },
     "metadata": {},
     "output_type": "display_data"
    },
    {
     "data": {
      "image/png": "[encoded data removed]",
      "text/plain": [
       "<matplotlib.figure.Figure at 0x10f727d30>"
      ]
     },
     "metadata": {},
     "output_type": "display_data"
    },
    {
     "data": {
      "image/png": "[encoded data removed]",
      "text/plain": [
       "<matplotlib.figure.Figure at 0x10cc850b8>"
      ]
     },
     "metadata": {},
     "output_type": "display_data"
    },
    {
     "data": {
      "image/png": "[encoded data removed]",
      "text/plain": [
       "<matplotlib.figure.Figure at 0x11045aef0>"
      ]
     },
     "metadata": {},
     "output_type": "display_data"
    },
    {
     "data": {
      "image/png": "[encoded data removed]",
      "text/plain": [
       "<matplotlib.figure.Figure at 0x11045a198>"
      ]
     },
     "metadata": {},
     "output_type": "display_data"
    },
    {
     "data": {
      "image/png": "[encoded data removed]",
      "text/plain": [
       "<matplotlib.figure.Figure at 0x11045ada0>"
      ]
     },
     "metadata": {},
     "output_type": "display_data"
    }
   ],
   "source": [
    "for col in columns_of_interest:\n",
    "    plot_mom(df, col)\n",
    "    fig.savefig('images/'+col)"
   ]
  },
  {
   "cell_type": "code",
   "execution_count": 39,
   "metadata": {
    "collapsed": false
   },
   "outputs": [
    {
     "data": {
      "text/html": [
       "<div>\n",
       "<table border=\"1\" class=\"dataframe\">\n",
       "  <thead>\n",
       "    <tr style=\"text-align: right;\">\n",
       "      <th>stat_name</th>\n",
       "      <th>Background CPU(s)</th>\n",
       "      <th>Block changes</th>\n",
       "      <th>DB CPU(s)</th>\n",
       "      <th>DB Time(s)</th>\n",
       "      <th>Executes (SQL)</th>\n",
       "      <th>Global Cache blocks received</th>\n",
       "      <th>Global Cache blocks served</th>\n",
       "      <th>Hard parses (SQL)</th>\n",
       "      <th>IM scan rows</th>\n",
       "      <th>Logical read (blocks)</th>\n",
       "      <th>...</th>\n",
       "      <th>Read IO (MB)</th>\n",
       "      <th>Read IO requests</th>\n",
       "      <th>Redo size (bytes)</th>\n",
       "      <th>Rollbacks</th>\n",
       "      <th>SQL Work Area (MB)</th>\n",
       "      <th>Session Logical Read IM</th>\n",
       "      <th>Transactions</th>\n",
       "      <th>User calls</th>\n",
       "      <th>Write IO (MB)</th>\n",
       "      <th>Write IO requests</th>\n",
       "    </tr>\n",
       "    <tr>\n",
       "      <th>start_time</th>\n",
       "      <th></th>\n",
       "      <th></th>\n",
       "      <th></th>\n",
       "      <th></th>\n",
       "      <th></th>\n",
       "      <th></th>\n",
       "      <th></th>\n",
       "      <th></th>\n",
       "      <th></th>\n",
       "      <th></th>\n",
       "      <th></th>\n",
       "      <th></th>\n",
       "      <th></th>\n",
       "      <th></th>\n",
       "      <th></th>\n",
       "      <th></th>\n",
       "      <th></th>\n",
       "      <th></th>\n",
       "      <th></th>\n",
       "      <th></th>\n",
       "      <th></th>\n",
       "    </tr>\n",
       "  </thead>\n",
       "  <tbody>\n",
       "    <tr>\n",
       "      <th>01-APR-15 08.00.00.000000 AM</th>\n",
       "      <td>2.34</td>\n",
       "      <td>7171.66</td>\n",
       "      <td>8.34</td>\n",
       "      <td>21.33</td>\n",
       "      <td>7295.85</td>\n",
       "      <td>4067.55</td>\n",
       "      <td>4067.66</td>\n",
       "      <td>0.53</td>\n",
       "      <td>0</td>\n",
       "      <td>368308.41</td>\n",
       "      <td>...</td>\n",
       "      <td>146.02</td>\n",
       "      <td>12323.87</td>\n",
       "      <td>2520626.66</td>\n",
       "      <td>204.03</td>\n",
       "      <td>471.86</td>\n",
       "      <td>NaN</td>\n",
       "      <td>342.13</td>\n",
       "      <td>3172.36</td>\n",
       "      <td>7.38</td>\n",
       "      <td>791.23</td>\n",
       "    </tr>\n",
       "    <tr>\n",
       "      <th>01-APR-15 10.00.00.000000 PM</th>\n",
       "      <td>1.88</td>\n",
       "      <td>5829.02</td>\n",
       "      <td>5.75</td>\n",
       "      <td>14.98</td>\n",
       "      <td>4943.24</td>\n",
       "      <td>3371.89</td>\n",
       "      <td>3374.17</td>\n",
       "      <td>0.41</td>\n",
       "      <td>0</td>\n",
       "      <td>274450.76</td>\n",
       "      <td>...</td>\n",
       "      <td>237.88</td>\n",
       "      <td>9459.97</td>\n",
       "      <td>1708287.87</td>\n",
       "      <td>143.23</td>\n",
       "      <td>282.08</td>\n",
       "      <td>NaN</td>\n",
       "      <td>243.01</td>\n",
       "      <td>2288.04</td>\n",
       "      <td>5.59</td>\n",
       "      <td>603.88</td>\n",
       "    </tr>\n",
       "    <tr>\n",
       "      <th>01-JAN-15 08.00.00.000000 AM</th>\n",
       "      <td>NaN</td>\n",
       "      <td>1746.34</td>\n",
       "      <td>1.80</td>\n",
       "      <td>4.07</td>\n",
       "      <td>2277.13</td>\n",
       "      <td>1618.04</td>\n",
       "      <td>1617.80</td>\n",
       "      <td>0.30</td>\n",
       "      <td>NaN</td>\n",
       "      <td>119422.36</td>\n",
       "      <td>...</td>\n",
       "      <td>160.56</td>\n",
       "      <td>3976.52</td>\n",
       "      <td>577855.43</td>\n",
       "      <td>74.32</td>\n",
       "      <td>113.44</td>\n",
       "      <td>NaN</td>\n",
       "      <td>139.59</td>\n",
       "      <td>970.47</td>\n",
       "      <td>1.61</td>\n",
       "      <td>162.10</td>\n",
       "    </tr>\n",
       "    <tr>\n",
       "      <th>01-JUL-15 08.00.00.000000 AM</th>\n",
       "      <td>2.07</td>\n",
       "      <td>6530.64</td>\n",
       "      <td>6.92</td>\n",
       "      <td>18.46</td>\n",
       "      <td>6485.98</td>\n",
       "      <td>4164.01</td>\n",
       "      <td>4164.06</td>\n",
       "      <td>1.67</td>\n",
       "      <td>0</td>\n",
       "      <td>306467.96</td>\n",
       "      <td>...</td>\n",
       "      <td>155.87</td>\n",
       "      <td>9908.58</td>\n",
       "      <td>2263412.36</td>\n",
       "      <td>198.20</td>\n",
       "      <td>424.66</td>\n",
       "      <td>NaN</td>\n",
       "      <td>334.05</td>\n",
       "      <td>3064.53</td>\n",
       "      <td>6.76</td>\n",
       "      <td>721.93</td>\n",
       "    </tr>\n",
       "    <tr>\n",
       "      <th>01-JUL-15 10.00.00.000000 PM</th>\n",
       "      <td>1.80</td>\n",
       "      <td>5853.14</td>\n",
       "      <td>5.19</td>\n",
       "      <td>14.20</td>\n",
       "      <td>4787.97</td>\n",
       "      <td>3469.74</td>\n",
       "      <td>3469.68</td>\n",
       "      <td>0.94</td>\n",
       "      <td>0</td>\n",
       "      <td>248284.74</td>\n",
       "      <td>...</td>\n",
       "      <td>192.59</td>\n",
       "      <td>8087.20</td>\n",
       "      <td>1731536.10</td>\n",
       "      <td>151.27</td>\n",
       "      <td>288.96</td>\n",
       "      <td>NaN</td>\n",
       "      <td>259.02</td>\n",
       "      <td>2370.28</td>\n",
       "      <td>5.70</td>\n",
       "      <td>606.48</td>\n",
       "    </tr>\n",
       "  </tbody>\n",
       "</table>\n",
       "<p>5 rows × 24 columns</p>\n",
       "</div>"
      ],
      "text/plain": [
       "stat_name                     Background CPU(s)  Block changes  DB CPU(s)  \\\n",
       "start_time                                                                  \n",
       "01-APR-15 08.00.00.000000 AM               2.34        7171.66       8.34   \n",
       "01-APR-15 10.00.00.000000 PM               1.88        5829.02       5.75   \n",
       "01-JAN-15 08.00.00.000000 AM                NaN        1746.34       1.80   \n",
       "01-JUL-15 08.00.00.000000 AM               2.07        6530.64       6.92   \n",
       "01-JUL-15 10.00.00.000000 PM               1.80        5853.14       5.19   \n",
       "\n",
       "stat_name                     DB Time(s)  Executes (SQL)  \\\n",
       "start_time                                                 \n",
       "01-APR-15 08.00.00.000000 AM       21.33         7295.85   \n",
       "01-APR-15 10.00.00.000000 PM       14.98         4943.24   \n",
       "01-JAN-15 08.00.00.000000 AM        4.07         2277.13   \n",
       "01-JUL-15 08.00.00.000000 AM       18.46         6485.98   \n",
       "01-JUL-15 10.00.00.000000 PM       14.20         4787.97   \n",
       "\n",
       "stat_name                     Global Cache blocks received  \\\n",
       "start_time                                                   \n",
       "01-APR-15 08.00.00.000000 AM                       4067.55   \n",
       "01-APR-15 10.00.00.000000 PM                       3371.89   \n",
       "01-JAN-15 08.00.00.000000 AM                       1618.04   \n",
       "01-JUL-15 08.00.00.000000 AM                       4164.01   \n",
       "01-JUL-15 10.00.00.000000 PM                       3469.74   \n",
       "\n",
       "stat_name                     Global Cache blocks served  Hard parses (SQL)  \\\n",
       "start_time                                                                    \n",
       "01-APR-15 08.00.00.000000 AM                     4067.66               0.53   \n",
       "01-APR-15 10.00.00.000000 PM                     3374.17               0.41   \n",
       "01-JAN-15 08.00.00.000000 AM                     1617.80               0.30   \n",
       "01-JUL-15 08.00.00.000000 AM                     4164.06               1.67   \n",
       "01-JUL-15 10.00.00.000000 PM                     3469.68               0.94   \n",
       "\n",
       "stat_name                     IM scan rows  Logical read (blocks)  \\\n",
       "start_time                                                          \n",
       "01-APR-15 08.00.00.000000 AM             0              368308.41   \n",
       "01-APR-15 10.00.00.000000 PM             0              274450.76   \n",
       "01-JAN-15 08.00.00.000000 AM           NaN              119422.36   \n",
       "01-JUL-15 08.00.00.000000 AM             0              306467.96   \n",
       "01-JUL-15 10.00.00.000000 PM             0              248284.74   \n",
       "\n",
       "stat_name                           ...          Read IO (MB)  \\\n",
       "start_time                          ...                         \n",
       "01-APR-15 08.00.00.000000 AM        ...                146.02   \n",
       "01-APR-15 10.00.00.000000 PM        ...                237.88   \n",
       "01-JAN-15 08.00.00.000000 AM        ...                160.56   \n",
       "01-JUL-15 08.00.00.000000 AM        ...                155.87   \n",
       "01-JUL-15 10.00.00.000000 PM        ...                192.59   \n",
       "\n",
       "stat_name                     Read IO requests  Redo size (bytes)  Rollbacks  \\\n",
       "start_time                                                                     \n",
       "01-APR-15 08.00.00.000000 AM          12323.87         2520626.66     204.03   \n",
       "01-APR-15 10.00.00.000000 PM           9459.97         1708287.87     143.23   \n",
       "01-JAN-15 08.00.00.000000 AM           3976.52          577855.43      74.32   \n",
       "01-JUL-15 08.00.00.000000 AM           9908.58         2263412.36     198.20   \n",
       "01-JUL-15 10.00.00.000000 PM           8087.20         1731536.10     151.27   \n",
       "\n",
       "stat_name                     SQL Work Area (MB)  Session Logical Read IM  \\\n",
       "start_time                                                                  \n",
       "01-APR-15 08.00.00.000000 AM              471.86                      NaN   \n",
       "01-APR-15 10.00.00.000000 PM              282.08                      NaN   \n",
       "01-JAN-15 08.00.00.000000 AM              113.44                      NaN   \n",
       "01-JUL-15 08.00.00.000000 AM              424.66                      NaN   \n",
       "01-JUL-15 10.00.00.000000 PM              288.96                      NaN   \n",
       "\n",
       "stat_name                     Transactions  User calls  Write IO (MB)  \\\n",
       "start_time                                                              \n",
       "01-APR-15 08.00.00.000000 AM        342.13     3172.36           7.38   \n",
       "01-APR-15 10.00.00.000000 PM        243.01     2288.04           5.59   \n",
       "01-JAN-15 08.00.00.000000 AM        139.59      970.47           1.61   \n",
       "01-JUL-15 08.00.00.000000 AM        334.05     3064.53           6.76   \n",
       "01-JUL-15 10.00.00.000000 PM        259.02     2370.28           5.70   \n",
       "\n",
       "stat_name                     Write IO requests  \n",
       "start_time                                       \n",
       "01-APR-15 08.00.00.000000 AM             791.23  \n",
       "01-APR-15 10.00.00.000000 PM             603.88  \n",
       "01-JAN-15 08.00.00.000000 AM             162.10  \n",
       "01-JUL-15 08.00.00.000000 AM             721.93  \n",
       "01-JUL-15 10.00.00.000000 PM             606.48  \n",
       "\n",
       "[5 rows x 24 columns]"
      ]
     },
     "execution_count": 39,
     "metadata": {},
     "output_type": "execute_result"
    }
   ],
   "source": [
    "df.head()"
   ]
  },
  {
   "cell_type": "markdown",
   "metadata": {},
   "source": [
    "This above function would generate the MOM estimate for any database statistic that we would want.\n",
    "For example if we want to predict MOM's for \"Global Cache blocks served\", we just need to call this function:"
   ]
  },
  {
   "cell_type": "code",
   "execution_count": 40,
   "metadata": {
    "collapsed": false
   },
   "outputs": [
    {
     "data": {
      "image/png": "[encoded data removed]",
      "text/plain": [
       "<matplotlib.figure.Figure at 0x10fe77be0>"
      ]
     },
     "metadata": {},
     "output_type": "display_data"
    }
   ],
   "source": [
    "plot_mom(df,'Global Cache blocks received')\n",
    "fig.savefig('images/cache_blocks.png')"
   ]
  },
  {
   "cell_type": "markdown",
   "metadata": {},
   "source": [
    "For \"Rollbacks\" example our estimation is:"
   ]
  },
  {
   "cell_type": "code",
   "execution_count": 63,
   "metadata": {
    "collapsed": false
   },
   "outputs": [
    {
     "data": {
      "image/png": "[encoded data removed]",
      "text/plain": [
       "<matplotlib.figure.Figure at 0x110156b38>"
      ]
     },
     "metadata": {},
     "output_type": "display_data"
    }
   ],
   "source": [
    "plot_mom(df,'Rollbacks')\n",
    "fig.savefig('images/rollbacks.png')"
   ]
  },
  {
   "cell_type": "markdown",
   "metadata": {},
   "source": [
    "## Conclusion:\n",
    "\n",
    "As we can we our estimations (plotted in red) are pretty good estimation of our actual values that we observe in our real outputs. This concludes our discussion on MOM estimators on database statistics."
   ]
  },
  {
   "cell_type": "code",
   "execution_count": null,
   "metadata": {
    "collapsed": true
   },
   "outputs": [],
   "source": []
  },
  {
   "cell_type": "code",
   "execution_count": null,
   "metadata": {
    "collapsed": true
   },
   "outputs": [],
   "source": []
  },
  {
   "cell_type": "code",
   "execution_count": null,
   "metadata": {
    "collapsed": true
   },
   "outputs": [],
   "source": []
  },
  {
   "cell_type": "code",
   "execution_count": 93,
   "metadata": {
    "collapsed": false
   },
   "outputs": [
    {
     "data": {
      "text/plain": [
       "\"\\n    #output\\n    results = {}\\n    size = y.__len__()\\n    x = scipy.arange(size)\\n    h = plt.hist(y, bins=limit, color='w')\\n    for dist_name in dist_names:\\n        dist = getattr(scipy.stats, dist_name)\\n        param = dist.fit(y)\\n        goodness_of_fit = kstest(y, dist_name, param)\\n        results[dist_name] = goodness_of_fit\\n        pdf_fitted = dist.pdf(x, *param) * size\\n        plt.plot(pdf_fitted, label=dist_name)\\n        plt.xlim(0, limit-1)\\n        plt.legend(loc='upper right')\\n    for k, v in results.iteritems():\\n        print(k, v)\\n    plt.show()\\n\""
      ]
     },
     "execution_count": 93,
     "metadata": {},
     "output_type": "execute_result"
    }
   ],
   "source": [
    "dist_names = ['gamma', 'lognorm']\n",
    "limit = 30\n",
    "y=df['Background CPU(s)'].values\n",
    "'''\n",
    "    #output\n",
    "    results = {}\n",
    "    size = y.__len__()\n",
    "    x = scipy.arange(size)\n",
    "    h = plt.hist(y, bins=limit, color='w')\n",
    "    for dist_name in dist_names:\n",
    "        dist = getattr(scipy.stats, dist_name)\n",
    "        param = dist.fit(y)\n",
    "        goodness_of_fit = kstest(y, dist_name, param)\n",
    "        results[dist_name] = goodness_of_fit\n",
    "        pdf_fitted = dist.pdf(x, *param) * size\n",
    "        plt.plot(pdf_fitted, label=dist_name)\n",
    "        plt.xlim(0, limit-1)\n",
    "        plt.legend(loc='upper right')\n",
    "    for k, v in results.iteritems():\n",
    "        print(k, v)\n",
    "    plt.show()\n",
    "'''"
   ]
  },
  {
   "cell_type": "code",
   "execution_count": 92,
   "metadata": {
    "collapsed": false
   },
   "outputs": [],
   "source": [
    "df['Background CPU(s)']=df['Background CPU(s)'].fillna(sample_mean)"
   ]
  },
  {
   "cell_type": "code",
   "execution_count": 72,
   "metadata": {
    "collapsed": false
   },
   "outputs": [],
   "source": [
    "import scipy\n",
    "x = scipy.arange(size)"
   ]
  },
  {
   "cell_type": "code",
   "execution_count": 101,
   "metadata": {
    "collapsed": false
   },
   "outputs": [],
   "source": [
    "goodness_of_fit = kstest(y, 'gamma', a )"
   ]
  },
  {
   "cell_type": "code",
   "execution_count": 99,
   "metadata": {
    "collapsed": true
   },
   "outputs": [],
   "source": [
    "a=gamma.fit(y)"
   ]
  },
  {
   "cell_type": "code",
   "execution_count": 102,
   "metadata": {
    "collapsed": false
   },
   "outputs": [
    {
     "data": {
      "text/plain": [
       "(10861.304542462454, -43.879827740201861, 0.0042386392823745064)"
      ]
     },
     "execution_count": 102,
     "metadata": {},
     "output_type": "execute_result"
    }
   ],
   "source": [
    "a"
   ]
  },
  {
   "cell_type": "code",
   "execution_count": null,
   "metadata": {
    "collapsed": true
   },
   "outputs": [],
   "source": []
  }
 ],
 "metadata": {
  "kernelspec": {
   "display_name": "Python 2",
   "language": "python",
   "name": "python2"
  },
  "language_info": {
   "codemirror_mode": {
    "name": "ipython",
    "version": 2
   },
   "file_extension": ".py",
   "mimetype": "text/x-python",
   "name": "python",
   "nbconvert_exporter": "python",
   "pygments_lexer": "ipython2",
   "version": "2.7.10"
  }
 },
 "nbformat": 4,
 "nbformat_minor": 0
}
